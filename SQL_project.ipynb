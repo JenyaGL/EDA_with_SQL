{
 "cells": [
  {
   "cell_type": "markdown",
   "metadata": {},
   "source": [
    "SQL Project\n",
    "\n",
    "-----------------------------------------------------\n",
    "**Project goal**\n",
    "\n",
    "Explore and analyze this database that contains data on books, publishers, authors, customer ratings and reviews of books.\n",
    "\n",
    "This information will be used to generate a value proposition for a new products in the furue.\n",
    "\n",
    "--------------------------------------"
   ]
  },
  {
   "cell_type": "markdown",
   "metadata": {},
   "source": [
    "**Description**\n",
    "\n",
    "    - The projects explores the database if the followinf steps:\n",
    "    \n",
    "    \n",
    "- Find the number of books released after January 1, 2000.\n",
    "\n",
    "\n",
    "- Find the number of user reviews and the average rating for each book.\n",
    "\n",
    "\n",
    "- Identify the publisher that has released the greatest number of books with more than 50 pages (this will help you exclude  brochures and similar publications from your analysis).\n",
    "\n",
    "\n",
    "- Identify the author with the highest average book rating: look only at books with at least 50 ratings.\n",
    "\n",
    "\n",
    "- Find the average number of text reviews among users who rated more than 50 books."
   ]
  },
  {
   "cell_type": "code",
   "execution_count": 1,
   "metadata": {},
   "outputs": [
    {
     "name": "stdout",
     "output_type": "stream",
     "text": [
      "Requirement already satisfied: psycopg2-binary in c:\\users\\jenya\\anaconda3\\lib\\site-packages (2.9.5)\n",
      "Note: you may need to restart the kernel to use updated packages.\n"
     ]
    }
   ],
   "source": [
    "pip install psycopg2-binary "
   ]
  },
  {
   "cell_type": "code",
   "execution_count": 2,
   "metadata": {},
   "outputs": [],
   "source": [
    "# import libraries\n",
    "import pandas as pd\n",
    "from sqlalchemy import create_engine\n",
    "\n",
    "\n",
    "db_config = {'user': 'practicum_student',         # username\n",
    "             'pwd': 's65BlTKV3faNIGhmvJVzOqhs', # password\n",
    "             'host': 'rc1b-wcoijxj3yxfsf3fs.mdb.yandexcloud.net',\n",
    "             'port': 6432,              # connection port\n",
    "             'db': 'data-analyst-final-project-db'}          # the name of the database\n",
    "\n",
    "connection_string = 'postgresql://{}:{}@{}:{}/{}'.format(db_config['user'],\n",
    "                                                                     db_config['pwd'],\n",
    "                                                                       db_config['host'],\n",
    "                                                                       db_config['port'],\n",
    "                                                                       db_config['db'])\n",
    "\n",
    "engine = create_engine(connection_string, connect_args={'sslmode':'require'})"
   ]
  },
  {
   "cell_type": "markdown",
   "metadata": {},
   "source": [
    " --- how to write a qury on jupyter :\n",
    " \n",
    "pd.io.sql.read_sql(  #### , con = engine)"
   ]
  },
  {
   "cell_type": "markdown",
   "metadata": {},
   "source": [
    "**Description of the data**\n",
    "\n",
    "- books:\n",
    "\n",
    "Contains data on books:\n",
    "\n",
    "book_id\n",
    "\n",
    "author_id\n",
    "\n",
    "title\n",
    "\n",
    "num_pages — number of pages\n",
    "\n",
    "\n",
    "publication_date\n",
    "\n",
    "publisher_id\n",
    "\n",
    "- authors:\n",
    "\n",
    "Contains data on authors:\n",
    "\n",
    "author_id\n",
    "\n",
    "author\n",
    "\n",
    "- publishers:\n",
    "\n",
    "Contains data on publishers:\n",
    "\n",
    "publisher_id\n",
    "\n",
    "publisher\n",
    "\n",
    "- ratings:\n",
    "\n",
    "Contains data on user ratings:\n",
    "\n",
    "rating_id\n",
    "\n",
    "book_id\n",
    "\n",
    "username — the name of the user who rated the book\n",
    "\n",
    "rating\n",
    "\n",
    "- reviews:\n",
    "\n",
    "Contains data on customer reviews:\n",
    "\n",
    "review_id\n",
    "\n",
    "book_id\n",
    "\n",
    "username — the name of the user who reviewed the book\n",
    "\n",
    "text — the text of the review\n",
    "\n",
    "----------------------------------------------"
   ]
  },
  {
   "cell_type": "code",
   "execution_count": null,
   "metadata": {
    "scrolled": false
   },
   "outputs": [],
   "source": [
    "# - Find the number of books released after January 1, 2000.\n",
    "\n",
    "sql_query =\"\"\"\n",
    "\n",
    "SELECT *\n",
    "FROM books\n",
    "WHERE CAST(publication_date AS date) >= '2000-1-1'\n",
    "\n",
    "\"\"\"\n",
    "num_book = pd.io.sql.read_sql(sql_query , con = engine)\n",
    "num_book"
   ]
  },
  {
   "cell_type": "markdown",
   "metadata": {},
   "source": [
    "Now we know that there are 821 books that got released since January 1, 2000.\n",
    "\n",
    "-----------------------------"
   ]
  },
  {
   "cell_type": "code",
   "execution_count": null,
   "metadata": {
    "scrolled": false
   },
   "outputs": [],
   "source": [
    "# - Find the number of user reviews and the average rating for each book.\n",
    "\n",
    "sql_query =\"\"\"\n",
    "\n",
    "SELECT title,\n",
    "       COUNT(rating_id) AS n_reviews,\n",
    "       AVG(rating) AS avg_rating\n",
    "       \n",
    "FROM ratings AS r\n",
    "JOIN books AS b ON r.book_id=b.book_id\n",
    "GROUP BY r.book_id,title\n",
    "ORDER BY avg_rating DESC;\n",
    "\"\"\"\n",
    "num_user_reviews = pd.io.sql.read_sql(sql_query , con = engine)\n",
    "num_user_reviews"
   ]
  },
  {
   "cell_type": "markdown",
   "metadata": {},
   "source": [
    "---------------------"
   ]
  },
  {
   "cell_type": "code",
   "execution_count": null,
   "metadata": {},
   "outputs": [],
   "source": [
    "#  - Identify the publisher that has released the greatest number of books with more than 50 pages.\n",
    "# (this will help you exclude brochures and similar publications from your analysis).\n",
    "\n",
    "sql_query=\"\"\"\n",
    "\n",
    "SELECT \n",
    "       COUNT(book_id) AS books,\n",
    "       publisher\n",
    "FROM publishers AS p\n",
    "JOIN books AS b ON p.publisher_id=b.publisher_id\n",
    "WHERE num_pages >50\n",
    "GROUP BY publisher\n",
    "ORDER BY books DESC;\n",
    "\"\"\"\n",
    "lead_publisher = pd.io.sql.read_sql(sql_query , con = engine)\n",
    "lead_publisher"
   ]
  },
  {
   "cell_type": "markdown",
   "metadata": {},
   "source": [
    "Of course it would be penguin books, with 42 books."
   ]
  },
  {
   "cell_type": "code",
   "execution_count": null,
   "metadata": {
    "scrolled": true
   },
   "outputs": [],
   "source": [
    "# - Identify the author with the highest average book rating: look only at books with at least 50 ratings.\n",
    "sql_query= \"\"\"\n",
    "\n",
    "SELECT author,AVG(rate_of)\n",
    "FROM (SELECT b.book_id,b.author_id,AVG(r.rating) AS rate_of\n",
    "    FROM books AS b\n",
    "LEFT JOIN ratings AS r ON r.book_id=b.book_id\n",
    "    GROUP BY b.book_id\n",
    "    HAVING COUNT(r.rating)>50\n",
    "    ORDER BY AVG(r.rating)) AS f\n",
    "LEFT JOIN authors AS a ON f.author_id = a.author_id\n",
    "GROUP BY author\n",
    "LIMIT 1;\n",
    "\"\"\"\n",
    "lead_author = pd.io.sql.read_sql(sql_query , con = engine)\n",
    "lead_author"
   ]
  },
  {
   "cell_type": "code",
   "execution_count": null,
   "metadata": {},
   "outputs": [],
   "source": [
    "# - Find the average number of text reviews among users who rated more than 50 books.\n",
    "sql_query=\"\"\"\n",
    "\n",
    "SELECT AVG(no_reviews) AS avg_num\n",
    "    \n",
    "FROM( \n",
    "    SELECT COUNT(r.review_id) AS no_reviews      \n",
    "      FROM\n",
    "      (SELECT username\n",
    "      FROM ratings\n",
    "      GROUP BY username\n",
    "      HAVING COUNT(rating_id)>50) AS a\n",
    "JOIN reviews AS r ON a.username = r.username\n",
    "GROUP BY a.username) AS f;\n",
    "\n",
    "\n",
    "\"\"\"\n",
    "lead_user = pd.io.sql.read_sql(sql_query , con = engine)\n",
    "lead_user"
   ]
  },
  {
   "cell_type": "markdown",
   "metadata": {},
   "source": [
    " the average number of text reviews among users who rated more than 50 books is 24.3"
   ]
  },
  {
   "cell_type": "markdown",
   "metadata": {},
   "source": [
    "**Summary**\n",
    "\n",
    "- there are 821 books that got released since January 1, 2000.\n",
    "\n",
    "- Theres 1000 booksin the data \n",
    "\n",
    "- Pinguin house is the publisher that has released the greatest number of books with more than 50 pages. \n",
    "\n",
    "- \n",
    "\n",
    "-  the average number of text reviews among users who rated more than 50 books is 24.3"
   ]
  }
 ],
 "metadata": {
  "kernelspec": {
   "display_name": "Python 3 (ipykernel)",
   "language": "python",
   "name": "python3"
  },
  "language_info": {
   "codemirror_mode": {
    "name": "ipython",
    "version": 3
   },
   "file_extension": ".py",
   "mimetype": "text/x-python",
   "name": "python",
   "nbconvert_exporter": "python",
   "pygments_lexer": "ipython3",
   "version": "3.9.12"
  },
  "toc": {
   "base_numbering": 1,
   "nav_menu": {},
   "number_sections": true,
   "sideBar": true,
   "skip_h1_title": true,
   "title_cell": "Table of Contents",
   "title_sidebar": "Contents",
   "toc_cell": false,
   "toc_position": {},
   "toc_section_display": true,
   "toc_window_display": false
  }
 },
 "nbformat": 4,
 "nbformat_minor": 2
}
